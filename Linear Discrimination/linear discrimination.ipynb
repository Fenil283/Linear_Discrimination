{
 "cells": [
  {
   "cell_type": "code",
   "execution_count": 13,
   "id": "97e73b5f",
   "metadata": {},
   "outputs": [],
   "source": [
    "import numpy as np\n",
    "import pandas as pd\n",
    "import matplotlib.pyplot as plt"
   ]
  },
  {
   "cell_type": "code",
   "execution_count": 14,
   "id": "a56e052a",
   "metadata": {},
   "outputs": [],
   "source": [
    "dataset = pd.read_csv(\"C:\\\\Users\\\\Fenil\\\\projects\\\\linear discrimination\\\\dataset\\\\wine.csv\")"
   ]
  },
  {
   "cell_type": "code",
   "execution_count": 15,
   "id": "20645297",
   "metadata": {},
   "outputs": [
    {
     "data": {
      "text/html": [
       "<div>\n",
       "<style scoped>\n",
       "    .dataframe tbody tr th:only-of-type {\n",
       "        vertical-align: middle;\n",
       "    }\n",
       "\n",
       "    .dataframe tbody tr th {\n",
       "        vertical-align: top;\n",
       "    }\n",
       "\n",
       "    .dataframe thead th {\n",
       "        text-align: right;\n",
       "    }\n",
       "</style>\n",
       "<table border=\"1\" class=\"dataframe\">\n",
       "  <thead>\n",
       "    <tr style=\"text-align: right;\">\n",
       "      <th></th>\n",
       "      <th>Wine</th>\n",
       "      <th>Alcohol</th>\n",
       "      <th>Malic.acid</th>\n",
       "      <th>Ash</th>\n",
       "      <th>Acl</th>\n",
       "      <th>Mg</th>\n",
       "      <th>Phenols</th>\n",
       "      <th>Flavanoids</th>\n",
       "      <th>Nonflavanoid.phenols</th>\n",
       "      <th>Proanth</th>\n",
       "      <th>Color.int</th>\n",
       "      <th>Hue</th>\n",
       "      <th>OD</th>\n",
       "      <th>Proline</th>\n",
       "    </tr>\n",
       "  </thead>\n",
       "  <tbody>\n",
       "    <tr>\n",
       "      <th>0</th>\n",
       "      <td>1</td>\n",
       "      <td>14.23</td>\n",
       "      <td>1.71</td>\n",
       "      <td>2.43</td>\n",
       "      <td>15.6</td>\n",
       "      <td>127</td>\n",
       "      <td>2.80</td>\n",
       "      <td>3.06</td>\n",
       "      <td>0.28</td>\n",
       "      <td>2.29</td>\n",
       "      <td>5.64</td>\n",
       "      <td>1.04</td>\n",
       "      <td>3.92</td>\n",
       "      <td>1065</td>\n",
       "    </tr>\n",
       "    <tr>\n",
       "      <th>1</th>\n",
       "      <td>1</td>\n",
       "      <td>13.20</td>\n",
       "      <td>1.78</td>\n",
       "      <td>2.14</td>\n",
       "      <td>11.2</td>\n",
       "      <td>100</td>\n",
       "      <td>2.65</td>\n",
       "      <td>2.76</td>\n",
       "      <td>0.26</td>\n",
       "      <td>1.28</td>\n",
       "      <td>4.38</td>\n",
       "      <td>1.05</td>\n",
       "      <td>3.40</td>\n",
       "      <td>1050</td>\n",
       "    </tr>\n",
       "    <tr>\n",
       "      <th>2</th>\n",
       "      <td>1</td>\n",
       "      <td>13.16</td>\n",
       "      <td>2.36</td>\n",
       "      <td>2.67</td>\n",
       "      <td>18.6</td>\n",
       "      <td>101</td>\n",
       "      <td>2.80</td>\n",
       "      <td>3.24</td>\n",
       "      <td>0.30</td>\n",
       "      <td>2.81</td>\n",
       "      <td>5.68</td>\n",
       "      <td>1.03</td>\n",
       "      <td>3.17</td>\n",
       "      <td>1185</td>\n",
       "    </tr>\n",
       "    <tr>\n",
       "      <th>3</th>\n",
       "      <td>1</td>\n",
       "      <td>14.37</td>\n",
       "      <td>1.95</td>\n",
       "      <td>2.50</td>\n",
       "      <td>16.8</td>\n",
       "      <td>113</td>\n",
       "      <td>3.85</td>\n",
       "      <td>3.49</td>\n",
       "      <td>0.24</td>\n",
       "      <td>2.18</td>\n",
       "      <td>7.80</td>\n",
       "      <td>0.86</td>\n",
       "      <td>3.45</td>\n",
       "      <td>1480</td>\n",
       "    </tr>\n",
       "    <tr>\n",
       "      <th>4</th>\n",
       "      <td>1</td>\n",
       "      <td>13.24</td>\n",
       "      <td>2.59</td>\n",
       "      <td>2.87</td>\n",
       "      <td>21.0</td>\n",
       "      <td>118</td>\n",
       "      <td>2.80</td>\n",
       "      <td>2.69</td>\n",
       "      <td>0.39</td>\n",
       "      <td>1.82</td>\n",
       "      <td>4.32</td>\n",
       "      <td>1.04</td>\n",
       "      <td>2.93</td>\n",
       "      <td>735</td>\n",
       "    </tr>\n",
       "    <tr>\n",
       "      <th>...</th>\n",
       "      <td>...</td>\n",
       "      <td>...</td>\n",
       "      <td>...</td>\n",
       "      <td>...</td>\n",
       "      <td>...</td>\n",
       "      <td>...</td>\n",
       "      <td>...</td>\n",
       "      <td>...</td>\n",
       "      <td>...</td>\n",
       "      <td>...</td>\n",
       "      <td>...</td>\n",
       "      <td>...</td>\n",
       "      <td>...</td>\n",
       "      <td>...</td>\n",
       "    </tr>\n",
       "    <tr>\n",
       "      <th>173</th>\n",
       "      <td>3</td>\n",
       "      <td>13.71</td>\n",
       "      <td>5.65</td>\n",
       "      <td>2.45</td>\n",
       "      <td>20.5</td>\n",
       "      <td>95</td>\n",
       "      <td>1.68</td>\n",
       "      <td>0.61</td>\n",
       "      <td>0.52</td>\n",
       "      <td>1.06</td>\n",
       "      <td>7.70</td>\n",
       "      <td>0.64</td>\n",
       "      <td>1.74</td>\n",
       "      <td>740</td>\n",
       "    </tr>\n",
       "    <tr>\n",
       "      <th>174</th>\n",
       "      <td>3</td>\n",
       "      <td>13.40</td>\n",
       "      <td>3.91</td>\n",
       "      <td>2.48</td>\n",
       "      <td>23.0</td>\n",
       "      <td>102</td>\n",
       "      <td>1.80</td>\n",
       "      <td>0.75</td>\n",
       "      <td>0.43</td>\n",
       "      <td>1.41</td>\n",
       "      <td>7.30</td>\n",
       "      <td>0.70</td>\n",
       "      <td>1.56</td>\n",
       "      <td>750</td>\n",
       "    </tr>\n",
       "    <tr>\n",
       "      <th>175</th>\n",
       "      <td>3</td>\n",
       "      <td>13.27</td>\n",
       "      <td>4.28</td>\n",
       "      <td>2.26</td>\n",
       "      <td>20.0</td>\n",
       "      <td>120</td>\n",
       "      <td>1.59</td>\n",
       "      <td>0.69</td>\n",
       "      <td>0.43</td>\n",
       "      <td>1.35</td>\n",
       "      <td>10.20</td>\n",
       "      <td>0.59</td>\n",
       "      <td>1.56</td>\n",
       "      <td>835</td>\n",
       "    </tr>\n",
       "    <tr>\n",
       "      <th>176</th>\n",
       "      <td>3</td>\n",
       "      <td>13.17</td>\n",
       "      <td>2.59</td>\n",
       "      <td>2.37</td>\n",
       "      <td>20.0</td>\n",
       "      <td>120</td>\n",
       "      <td>1.65</td>\n",
       "      <td>0.68</td>\n",
       "      <td>0.53</td>\n",
       "      <td>1.46</td>\n",
       "      <td>9.30</td>\n",
       "      <td>0.60</td>\n",
       "      <td>1.62</td>\n",
       "      <td>840</td>\n",
       "    </tr>\n",
       "    <tr>\n",
       "      <th>177</th>\n",
       "      <td>3</td>\n",
       "      <td>14.13</td>\n",
       "      <td>4.10</td>\n",
       "      <td>2.74</td>\n",
       "      <td>24.5</td>\n",
       "      <td>96</td>\n",
       "      <td>2.05</td>\n",
       "      <td>0.76</td>\n",
       "      <td>0.56</td>\n",
       "      <td>1.35</td>\n",
       "      <td>9.20</td>\n",
       "      <td>0.61</td>\n",
       "      <td>1.60</td>\n",
       "      <td>560</td>\n",
       "    </tr>\n",
       "  </tbody>\n",
       "</table>\n",
       "<p>178 rows × 14 columns</p>\n",
       "</div>"
      ],
      "text/plain": [
       "     Wine  Alcohol  Malic.acid   Ash   Acl   Mg  Phenols  Flavanoids  \\\n",
       "0       1    14.23        1.71  2.43  15.6  127     2.80        3.06   \n",
       "1       1    13.20        1.78  2.14  11.2  100     2.65        2.76   \n",
       "2       1    13.16        2.36  2.67  18.6  101     2.80        3.24   \n",
       "3       1    14.37        1.95  2.50  16.8  113     3.85        3.49   \n",
       "4       1    13.24        2.59  2.87  21.0  118     2.80        2.69   \n",
       "..    ...      ...         ...   ...   ...  ...      ...         ...   \n",
       "173     3    13.71        5.65  2.45  20.5   95     1.68        0.61   \n",
       "174     3    13.40        3.91  2.48  23.0  102     1.80        0.75   \n",
       "175     3    13.27        4.28  2.26  20.0  120     1.59        0.69   \n",
       "176     3    13.17        2.59  2.37  20.0  120     1.65        0.68   \n",
       "177     3    14.13        4.10  2.74  24.5   96     2.05        0.76   \n",
       "\n",
       "     Nonflavanoid.phenols  Proanth  Color.int   Hue    OD  Proline  \n",
       "0                    0.28     2.29       5.64  1.04  3.92     1065  \n",
       "1                    0.26     1.28       4.38  1.05  3.40     1050  \n",
       "2                    0.30     2.81       5.68  1.03  3.17     1185  \n",
       "3                    0.24     2.18       7.80  0.86  3.45     1480  \n",
       "4                    0.39     1.82       4.32  1.04  2.93      735  \n",
       "..                    ...      ...        ...   ...   ...      ...  \n",
       "173                  0.52     1.06       7.70  0.64  1.74      740  \n",
       "174                  0.43     1.41       7.30  0.70  1.56      750  \n",
       "175                  0.43     1.35      10.20  0.59  1.56      835  \n",
       "176                  0.53     1.46       9.30  0.60  1.62      840  \n",
       "177                  0.56     1.35       9.20  0.61  1.60      560  \n",
       "\n",
       "[178 rows x 14 columns]"
      ]
     },
     "execution_count": 15,
     "metadata": {},
     "output_type": "execute_result"
    }
   ],
   "source": [
    "dataset\n",
    "#in our dataset first column indication result and other columns indicating its parameter"
   ]
  },
  {
   "cell_type": "code",
   "execution_count": 23,
   "id": "8e51ac21",
   "metadata": {},
   "outputs": [],
   "source": [
    "#for extracting columns other than first column\n",
    "x = dataset.iloc[:,1:].values"
   ]
  },
  {
   "cell_type": "code",
   "execution_count": 24,
   "id": "38e1b443",
   "metadata": {},
   "outputs": [
    {
     "data": {
      "text/plain": [
       "array([[1.423e+01, 1.710e+00, 2.430e+00, ..., 1.040e+00, 3.920e+00,\n",
       "        1.065e+03],\n",
       "       [1.320e+01, 1.780e+00, 2.140e+00, ..., 1.050e+00, 3.400e+00,\n",
       "        1.050e+03],\n",
       "       [1.316e+01, 2.360e+00, 2.670e+00, ..., 1.030e+00, 3.170e+00,\n",
       "        1.185e+03],\n",
       "       ...,\n",
       "       [1.327e+01, 4.280e+00, 2.260e+00, ..., 5.900e-01, 1.560e+00,\n",
       "        8.350e+02],\n",
       "       [1.317e+01, 2.590e+00, 2.370e+00, ..., 6.000e-01, 1.620e+00,\n",
       "        8.400e+02],\n",
       "       [1.413e+01, 4.100e+00, 2.740e+00, ..., 6.100e-01, 1.600e+00,\n",
       "        5.600e+02]])"
      ]
     },
     "execution_count": 24,
     "metadata": {},
     "output_type": "execute_result"
    }
   ],
   "source": [
    "x"
   ]
  },
  {
   "cell_type": "code",
   "execution_count": 25,
   "id": "9ee01b89",
   "metadata": {},
   "outputs": [],
   "source": [
    "#for extracting first column\n",
    "y = dataset.iloc[:,0].values"
   ]
  },
  {
   "cell_type": "code",
   "execution_count": 26,
   "id": "3d350788",
   "metadata": {},
   "outputs": [
    {
     "data": {
      "text/plain": [
       "array([1, 1, 1, 1, 1, 1, 1, 1, 1, 1, 1, 1, 1, 1, 1, 1, 1, 1, 1, 1, 1, 1,\n",
       "       1, 1, 1, 1, 1, 1, 1, 1, 1, 1, 1, 1, 1, 1, 1, 1, 1, 1, 1, 1, 1, 1,\n",
       "       1, 1, 1, 1, 1, 1, 1, 1, 1, 1, 1, 1, 1, 1, 1, 2, 2, 2, 2, 2, 2, 2,\n",
       "       2, 2, 2, 2, 2, 2, 2, 2, 2, 2, 2, 2, 2, 2, 2, 2, 2, 2, 2, 2, 2, 2,\n",
       "       2, 2, 2, 2, 2, 2, 2, 2, 2, 2, 2, 2, 2, 2, 2, 2, 2, 2, 2, 2, 2, 2,\n",
       "       2, 2, 2, 2, 2, 2, 2, 2, 2, 2, 2, 2, 2, 2, 2, 2, 2, 2, 2, 2, 3, 3,\n",
       "       3, 3, 3, 3, 3, 3, 3, 3, 3, 3, 3, 3, 3, 3, 3, 3, 3, 3, 3, 3, 3, 3,\n",
       "       3, 3, 3, 3, 3, 3, 3, 3, 3, 3, 3, 3, 3, 3, 3, 3, 3, 3, 3, 3, 3, 3,\n",
       "       3, 3], dtype=int64)"
      ]
     },
     "execution_count": 26,
     "metadata": {},
     "output_type": "execute_result"
    }
   ],
   "source": [
    "y"
   ]
  },
  {
   "cell_type": "code",
   "execution_count": 27,
   "id": "f4ba3a59",
   "metadata": {},
   "outputs": [],
   "source": [
    "from sklearn.model_selection import train_test_split\n",
    "x_train,x_test,y_train,y_test = train_test_split(x,y,random_state = 37 , test_size = .29)"
   ]
  },
  {
   "cell_type": "code",
   "execution_count": 28,
   "id": "9535a54b",
   "metadata": {},
   "outputs": [
    {
     "data": {
      "text/plain": [
       "array([[1.419e+01, 1.590e+00, 2.480e+00, ..., 1.230e+00, 2.820e+00,\n",
       "        1.680e+03],\n",
       "       [1.316e+01, 3.570e+00, 2.150e+00, ..., 6.000e-01, 1.680e+00,\n",
       "        8.300e+02],\n",
       "       [1.237e+01, 1.170e+00, 1.920e+00, ..., 1.120e+00, 3.480e+00,\n",
       "        5.100e+02],\n",
       "       ...,\n",
       "       [1.303e+01, 9.000e-01, 1.710e+00, ..., 1.190e+00, 2.480e+00,\n",
       "        3.920e+02],\n",
       "       [1.272e+01, 1.750e+00, 2.280e+00, ..., 8.800e-01, 2.420e+00,\n",
       "        4.880e+02],\n",
       "       [1.362e+01, 4.950e+00, 2.350e+00, ..., 9.100e-01, 2.050e+00,\n",
       "        5.500e+02]])"
      ]
     },
     "execution_count": 28,
     "metadata": {},
     "output_type": "execute_result"
    }
   ],
   "source": [
    "x_train"
   ]
  },
  {
   "cell_type": "code",
   "execution_count": 29,
   "id": "dce1a119",
   "metadata": {},
   "outputs": [
    {
     "data": {
      "text/plain": [
       "array([1, 3, 2, 3, 3, 2, 1, 2, 3, 3, 1, 2, 2, 2, 2, 3, 2, 3, 1, 1, 3, 1,\n",
       "       2, 3, 2, 1, 1, 2, 3, 2, 3, 3, 1, 1, 1, 1, 2, 2, 1, 2, 3, 2, 1, 2,\n",
       "       1, 1, 2, 2, 2, 2, 2, 2, 2, 3, 1, 2, 2, 1, 2, 3, 1, 3, 1, 2, 1, 2,\n",
       "       3, 2, 2, 1, 1, 2, 2, 3, 1, 1, 2, 3, 2, 1, 2, 2, 3, 1, 1, 2, 2, 1,\n",
       "       1, 1, 3, 1, 3, 2, 3, 1, 1, 2, 1, 2, 3, 1, 3, 2, 3, 1, 1, 3, 1, 2,\n",
       "       3, 1, 3, 3, 1, 2, 2, 2, 2, 1, 3, 2, 1, 2, 2, 3], dtype=int64)"
      ]
     },
     "execution_count": 29,
     "metadata": {},
     "output_type": "execute_result"
    }
   ],
   "source": [
    "y_train"
   ]
  },
  {
   "cell_type": "code",
   "execution_count": 30,
   "id": "6cbbf9c0",
   "metadata": {},
   "outputs": [],
   "source": [
    "#for scaling our train and test datasets such that they all can bound in particuler range\n",
    "#so our result don't influened by only one parmeter\n",
    "from sklearn.preprocessing import StandardScaler\n",
    "s = StandardScaler()\n",
    "x_train = s.fit_transform(x_train)\n",
    "x_test = s.transform(x_test)"
   ]
  },
  {
   "cell_type": "code",
   "execution_count": 31,
   "id": "9277729a",
   "metadata": {},
   "outputs": [
    {
     "data": {
      "text/plain": [
       "array([[ 1.46342426, -0.66904213,  0.41096001, ...,  1.09765106,\n",
       "         0.29369385,  2.92742833],\n",
       "       [ 0.18877191,  1.0831375 , -0.89344589, ..., -1.57394829,\n",
       "        -1.38904186,  0.26660415],\n",
       "       [-0.78887407, -1.0407166 , -1.80257727, ...,  0.63118133,\n",
       "         1.26790925, -0.7351179 ],\n",
       "       ...,\n",
       "       [ 0.02789346, -1.27965019, -2.63265376, ...,  0.9280257 ,\n",
       "        -0.2081747 , -1.1045029 ],\n",
       "       [-0.35573978, -0.52745186, -0.37958902, ..., -0.3865708 ,\n",
       "        -0.29673973, -0.80398629],\n",
       "       [ 0.75803412,  2.3043536 , -0.10289686, ..., -0.25935178,\n",
       "        -0.84289079, -0.60990264]])"
      ]
     },
     "execution_count": 31,
     "metadata": {},
     "output_type": "execute_result"
    }
   ],
   "source": [
    "x_train"
   ]
  },
  {
   "cell_type": "code",
   "execution_count": 32,
   "id": "80da7082",
   "metadata": {},
   "outputs": [
    {
     "data": {
      "text/plain": [
       "array([[-1.44476315e+00, -1.28849958e+00,  8.06234527e-01,\n",
       "        -4.57966821e-01, -3.75666634e-01, -1.98662970e-01,\n",
       "         1.53749469e-01, -1.20861290e+00,  1.48613193e+00,\n",
       "        -8.52820901e-01, -7.68227849e-01,  6.77475672e-01,\n",
       "        -7.03814082e-01],\n",
       "       [ 5.26439869e-02, -6.15945782e-01,  6.87652172e-01,\n",
       "        -4.57966821e-01, -4.23286348e-02,  2.17973751e-01,\n",
       "         3.81782389e-01, -6.50499511e-01, -1.99160198e-01,\n",
       "        -3.37220434e-01,  6.31181332e-01, -1.63892178e-01,\n",
       "         1.12745903e+00],\n",
       "       [ 1.35204687e+00, -2.88518275e-01,  9.47403997e-02,\n",
       "        -2.06122546e-01,  3.74343864e-01,  7.17937817e-01,\n",
       "         8.89673892e-01, -4.11308056e-01,  1.54169101e+00,\n",
       "         5.00630324e-01,  4.19149638e-01,  1.90367970e-01,\n",
       "         9.86591868e-01],\n",
       "       [ 1.42629847e+00,  1.45101937e-01,  4.10960012e-01,\n",
       "         1.71643866e-01, -6.25670133e-01, -1.06526735e+00,\n",
       "        -1.41138557e+00,  5.45457761e-01, -5.69554071e-01,\n",
       "         2.00446502e+00, -1.48913561e+00, -1.34475934e+00,\n",
       "        -2.65560688e-01],\n",
       "       [ 2.87774033e-01,  2.15897073e-01,  1.95253062e+00,\n",
       "         4.86449209e-01,  1.62436136e+00,  8.01265161e-01,\n",
       "         6.51275840e-01,  1.46805337e-01,  5.04588162e-01,\n",
       "        -3.07143740e-01,  2.91930621e-01,  4.56063080e-01,\n",
       "        -3.07820837e-02],\n",
       "       [ 8.94162046e-01,  1.78223947e+00, -4.58643922e-01,\n",
       "         9.58657224e-01, -8.75673633e-01, -1.73188610e+00,\n",
       "        -1.64978363e+00,  1.18330164e+00, -7.36231315e-01,\n",
       "         6.81090488e-01, -8.10634188e-01, -1.28571598e+00,\n",
       "        -7.03814082e-01],\n",
       "       [ 1.68617904e+00, -3.50464020e-01,  4.90014915e-01,\n",
       "        -8.35733233e-01,  1.20768886e+00,  2.55113939e+00,\n",
       "         1.48048646e+00, -1.04915193e+00,  1.17129713e+00,\n",
       "         1.18809761e+00, -4.71383477e-01,  1.22362673e+00,\n",
       "         2.30135205e+00],\n",
       "       [-9.37377259e-01, -5.45150645e-01, -1.01202824e+00,\n",
       "        -1.43161478e-01, -1.54234963e+00, -1.11526376e+00,\n",
       "        -3.28229203e-02, -1.26556325e-02,  1.52713982e-01,\n",
       "        -7.02437431e-01,  1.22305266e-01,  8.10323228e-01,\n",
       "        -7.35117896e-01],\n",
       "       [-8.38375135e-01, -1.20000566e+00, -1.68399492e+00,\n",
       "        -1.46534392e+00,  3.12438236e+00, -6.98627036e-01,\n",
       "        -2.19395309e-01, -1.72116602e-01,  2.24543937e+00,\n",
       "        -7.02437431e-01,  3.76743299e-01, -4.59108968e-01,\n",
       "         1.61736372e-02],\n",
       "       [-9.74503056e-01, -9.34523897e-01, -1.72352237e+00,\n",
       "        -1.43161478e-01, -5.42335634e-01,  6.79845317e-02,\n",
       "        -2.24577876e-02,  1.46805337e-01,  9.86100198e-01,\n",
       "        -1.00320437e+00, -4.71383477e-01,  5.88910636e-01,\n",
       "        -1.35493341e+00],\n",
       "       [-2.69112918e-01,  2.86692210e-01,  4.10960012e-01,\n",
       "         8.01254552e-01,  1.12435436e+00, -1.39857673e+00,\n",
       "        -7.27286813e-01, -1.04915193e+00, -5.32514684e-01,\n",
       "         2.47709878e+00, -2.08282435e+00, -1.69901948e+00,\n",
       "        -8.29029338e-01],\n",
       "       [ 6.83782531e-01, -5.62849429e-01, -2.61006664e-01,\n",
       "        -1.02461644e+00,  1.54102686e+00,  1.38455657e+00,\n",
       "         1.27318380e+00, -2.51847087e-01,  1.46761223e+00,\n",
       "         4.70553630e-01, -8.97264280e-02,  1.12030086e+00,\n",
       "         1.57040800e-01],\n",
       "       [ 8.32285718e-01, -4.56656725e-01, -6.33694064e-02,\n",
       "        -7.09811095e-01,  4.57678364e-01,  1.67977345e-01,\n",
       "         6.51275840e-01,  3.85996791e-01,  7.82383567e-01,\n",
       "        -5.13383927e-01,  1.09765106e+00,  3.67498043e-01,\n",
       "         7.67465171e-01],\n",
       "       [-9.99253587e-01,  6.05270325e-01, -2.21479212e-01,\n",
       "        -1.43161478e-01, -2.08997634e-01, -1.78188251e+00,\n",
       "        -1.62905336e+00,  2.26535822e-01, -1.51405845e+00,\n",
       "         1.99863385e-01, -1.31951025e+00, -1.16762926e+00,\n",
       "        -7.35117896e-01],\n",
       "       [-6.89871948e-01,  6.05270325e-01,  1.04339924e+00,\n",
       "         2.37528127e+00, -1.25663135e-01, -6.98627036e-01,\n",
       "        -1.53576717e+00,  2.06033697e+00, -7.54751008e-01,\n",
       "         1.05919750e+00, -1.27710391e+00, -1.31523766e+00,\n",
       "         4.23123218e-01],\n",
       "       [ 1.88771908e-01,  1.23610556e-02,  1.16198159e+00,\n",
       "        -2.69083615e-01,  2.07674865e-01,  8.01265161e-01,\n",
       "         1.22135814e+00, -5.70769026e-01,  2.33803784e+00,\n",
       "         2.77203455e-01,  2.49524282e-01,  8.10323228e-01,\n",
       "         1.37788954e+00],\n",
       "       [-1.79127058e+00, -2.61970099e-01,  3.37551888e+00,\n",
       "         2.84748928e+00,  1.70769586e+00,  1.43455298e+00,\n",
       "         3.12854256e+00,  7.84649215e-01,  5.97186630e-01,\n",
       "         4.14696913e-01, -1.74539106e-01,  1.57788688e+00,\n",
       "        -8.75985059e-01],\n",
       "       [-2.44362387e-01, -3.18859048e-02,  9.47403997e-02,\n",
       "         1.43086524e+00, -4.23286348e-02, -1.94853720e+00,\n",
       "        -1.00714540e+00, -8.09960480e-01, -1.32886151e+00,\n",
       "         2.85796796e-01, -1.31951025e+00, -1.86138872e+00,\n",
       "        -5.78598827e-01],\n",
       "       [ 1.71092957e+00, -4.21259156e-01,  2.92377657e-01,\n",
       "        -1.52830499e+00, -2.08997634e-01,  3.01301096e-01,\n",
       "         4.75068583e-01, -5.70769026e-01,  8.00903261e-01,\n",
       "         9.24466215e-02,  2.07117944e-01,  1.41551765e+00,\n",
       "         1.70657959e+00],\n",
       "       [-1.14775677e+00, -8.46029976e-01,  4.90014915e-01,\n",
       "         9.58657224e-01, -1.20901163e+00,  4.01293909e-01,\n",
       "         2.36670531e-01,  4.65727276e-01, -9.39947945e-01,\n",
       "        -9.17270959e-01, -1.74539106e-01,  8.39844907e-01,\n",
       "        -1.12641557e+00],\n",
       "       [ 1.30254581e+00, -6.33644566e-01, -3.79589019e-01,\n",
       "        -1.08757751e+00,  2.29103736e+00,  1.13457454e+00,\n",
       "         1.14880221e+00, -1.04915193e+00,  1.02313958e+00,\n",
       "         2.64313444e-01,  5.03962315e-01,  1.60740856e+00,\n",
       "         1.10085079e-01],\n",
       "       [-1.24675890e+00,  9.59246008e-01, -1.48635766e+00,\n",
       "        -1.43161478e-01, -9.59008133e-01, -5.31972347e-01,\n",
       "        -4.37063097e-01, -1.26556325e-02,  5.97186630e-01,\n",
       "        -1.61333159e+00, -1.74539106e-01,  6.33193154e-01,\n",
       "        -5.66077301e-01],\n",
       "       [-9.37377259e-01,  1.35746865e+00, -6.95808631e-01,\n",
       "        -3.00564149e-01,  1.12435436e+00, -1.56523142e+00,\n",
       "        -1.32846451e+00, -6.50499511e-01, -7.54751008e-01,\n",
       "         1.36426111e+00, -1.36191659e+00, -9.16694992e-01,\n",
       "         3.44863683e-01],\n",
       "       [-2.16076066e-02, -5.98246998e-01,  8.85289430e-01,\n",
       "         3.31969730e+00,  3.37438586e+00,  1.63453860e+00,\n",
       "         8.58578494e-01, -1.28834339e+00,  7.63863873e-01,\n",
       "        -7.23920784e-01,  1.43690177e+00,  1.29743093e+00,\n",
       "         7.51813264e-01],\n",
       "       [-3.80490308e-01,  1.06543871e+00, -6.33694064e-02,\n",
       "         6.43851881e-01,  6.24347364e-01, -1.03193641e+00,\n",
       "        -8.93128937e-01, -1.60726533e+00, -1.31034182e+00,\n",
       "        -1.49701424e-02, -8.10634188e-01, -1.96471459e+00,\n",
       "        -4.53383571e-01],\n",
       "       [ 5.26439869e-02, -5.09753077e-01, -1.09108315e+00,\n",
       "        -7.72772164e-01,  7.07681863e-01,  1.13457454e+00,\n",
       "         9.72594954e-01, -7.30229995e-01,  8.93501729e-01,\n",
       "         2.21653981e-03, -3.86570800e-01,  1.07601834e+00,\n",
       "         4.38775125e-01],\n",
       "       [-6.65121417e-01, -7.30987879e-01, -6.95808631e-01,\n",
       "        -1.43161478e-01,  5.29107935e+00,  3.01301096e-01,\n",
       "         2.15940265e-01, -4.11308056e-01,  3.20846344e+00,\n",
       "        -1.04617108e+00,  8.00806687e-01,  1.32378957e-02,\n",
       "         6.01554957e-01],\n",
       "       [-5.04242964e-01, -8.90276936e-01, -1.88163218e+00,\n",
       "        -3.00564149e-01, -8.75673633e-01, -1.44857313e+00,\n",
       "        -7.27286813e-01, -6.50499511e-01, -3.65837441e-01,\n",
       "        -1.11062113e+00,  2.91930621e-01,  2.19889648e-01,\n",
       "        -5.72338064e-01],\n",
       "       [ 3.62025626e-01, -5.54000037e-01, -9.32973340e-01,\n",
       "        -7.72772164e-01, -3.75666634e-01,  1.34646407e-01,\n",
       "         1.33019203e-01, -8.09960480e-01, -3.65837441e-01,\n",
       "        -4.66120551e-01,  2.07117944e-01,  2.19889648e-01,\n",
       "         1.69092768e+00],\n",
       "       [ 1.35204687e+00, -1.64626786e-01, -3.00534116e-01,\n",
       "        -4.57966821e-01,  5.41012864e-01,  1.05124719e+00,\n",
       "         1.30427920e+00, -1.20861290e+00,  1.54169101e+00,\n",
       "         3.07280149e-01,  1.18246374e+00,  8.10323228e-01,\n",
       "         2.39526349e+00],\n",
       "       [-1.46951368e+00, -5.54000037e-01, -1.96068708e+00,\n",
       "         1.42411941e-02, -1.04234263e+00,  3.01301096e-01,\n",
       "        -4.37063097e-01, -1.26556325e-02, -2.36199585e-01,\n",
       "        -1.27819129e+00, -1.32132767e-01, -2.67218054e-01,\n",
       "        -1.03250413e+00],\n",
       "       [ 4.85778282e-01,  1.99462488e+00,  1.91300317e+00,\n",
       "         1.74567058e+00,  1.12435436e+00, -5.65303285e-01,\n",
       "        -1.14189212e+00, -8.09960480e-01, -8.10310089e-01,\n",
       "         1.48886455e+00, -1.27710391e+00, -1.03478171e+00,\n",
       "        -3.59472130e-01],\n",
       "       [-6.15620354e-01, -5.45150645e-01, -1.56541256e+00,\n",
       "         3.29046537e-01, -1.12567713e+00, -1.98662970e-01,\n",
       "        -1.46839380e-01, -4.11308056e-01, -1.25081423e-01,\n",
       "        -9.00084277e-01,  2.91930621e-01,  1.40075681e+00,\n",
       "        -2.27996111e-01],\n",
       "       [-6.15620354e-01, -9.78770857e-01, -4.98171373e-01,\n",
       "        -6.15369492e-01, -1.12567713e+00, -5.31972347e-01,\n",
       "        -1.53576717e+00,  1.82114552e+00, -5.51034378e-01,\n",
       "         1.78380033e-01, -9.37853204e-01, -1.63997613e+00,\n",
       "        -2.96864502e-01],\n",
       "       [-1.29625996e+00, -1.11151174e+00, -3.00534116e-01,\n",
       "         4.86449209e-01,  2.07674865e-01,  1.76786235e+00,\n",
       "         8.11935397e-02, -1.92618727e+00,  1.89753369e-01,\n",
       "        -7.84074172e-01,  7.98989272e-02,  7.51279870e-01,\n",
       "         4.41905506e-01],\n",
       "       [-1.48188894e+00, -2.00024354e-01,  1.43867375e+00,\n",
       "         6.43851881e-01,  2.95771336e+00, -1.19859110e+00,\n",
       "        -1.11079672e+00, -1.84645678e+00,  2.30761262e-02,\n",
       "        -1.08913778e+00, -8.97264280e-02, -5.32913165e-01,\n",
       "        -3.75124037e-01],\n",
       "       [-9.86878321e-01, -1.02301782e+00, -2.47454395e+00,\n",
       "        -8.35733233e-01,  4.37439985e+00, -7.81954380e-01,\n",
       "        -8.10207875e-01, -1.84645678e+00,  1.76392733e+00,\n",
       "        -9.38754312e-01,  1.30968275e+00,  6.62714833e-01,\n",
       "        -8.39985673e-02],\n",
       "       [ 1.07979103e+00,  2.38399813e+00, -5.77226276e-01,\n",
       "         1.71643866e-01, -1.54234963e+00, -2.23185017e+00,\n",
       "        -1.78453035e+00,  2.26535822e-01, -1.60665692e+00,\n",
       "        -5.79368480e-02, -1.65876096e+00, -1.90567124e+00,\n",
       "        -1.03250413e+00],\n",
       "       [-1.94861325e-01, -6.60192742e-01,  5.69069818e-01,\n",
       "        -5.20927889e-01, -2.92332134e-01,  2.67970158e-01,\n",
       "         3.19591592e-01, -8.89690965e-01, -1.62120811e-01,\n",
       "        -4.74713892e-01,  5.03962315e-01,  1.48932184e+00,\n",
       "         8.45724706e-01],\n",
       "       [ 1.47579953e+00, -5.18602469e-01,  2.92377657e-01,\n",
       "        -1.33942178e+00,  1.12435436e+00,  1.58454220e+00,\n",
       "         1.37683513e+00, -2.51847087e-01,  7.82383567e-01,\n",
       "         7.36947205e-01,  3.34336960e-01,  3.37976364e-01,\n",
       "         2.20744061e+00],\n",
       "       [ 8.44660984e-01,  8.08806343e-01,  6.48124721e-01,\n",
       "         1.71643866e-01,  7.07681863e-01, -8.15285318e-01,\n",
       "        -1.55649743e+00,  1.02384067e+00, -1.38442059e+00,\n",
       "         3.63136866e-01, -4.73200892e-02, -1.18239010e+00,\n",
       "        -2.02953060e-01],\n",
       "       [ 5.26439869e-02,  1.33976987e+00, -2.21479212e-01,\n",
       "         9.58657224e-01, -1.12567713e+00, -1.11526376e+00,\n",
       "        -4.88888760e-01,  1.90087600e+00,  1.34194288e-01,\n",
       "        -1.00903554e-01, -5.56196155e-01, -9.01934152e-01,\n",
       "        -7.19465989e-01],\n",
       "       [ 2.15643913e+00, -5.45150645e-01,  5.52129482e-02,\n",
       "        -2.53568209e+00, -6.25670133e-01,  1.30122923e+00,\n",
       "         1.68778911e+00,  4.65727276e-01,  2.33803784e+00,\n",
       "         1.56896680e-01,  1.18246374e+00,  1.60846291e-01,\n",
       "         1.26832619e+00],\n",
       "       [-7.88874072e-01, -1.24425262e+00, -4.01611456e+00,\n",
       "        -2.78752636e+00, -8.75673633e-01, -5.65303285e-01,\n",
       "        -1.54613230e+00, -7.30229995e-01, -2.08816895e+00,\n",
       "        -1.32545466e+00,  3.34336960e-01, -1.18239010e+00,\n",
       "        -7.03814082e-01],\n",
       "       [ 4.85778282e-01,  1.38401683e+00,  4.10960012e-01,\n",
       "         1.11605990e+00,  2.91009364e-01, -8.65281724e-01,\n",
       "        -1.35955991e+00,  4.65727276e-01, -2.54719279e-01,\n",
       "         9.73264085e-01, -1.14988490e+00, -1.56617193e+00,\n",
       "         1.61736372e-02],\n",
       "       [ 1.26895580e-01, -1.18230687e+00, -2.67218121e+00,\n",
       "        -1.40238285e+00, -1.70901863e+00,  1.10124360e+00,\n",
       "         1.15916734e+00, -8.89690965e-01,  1.35649407e+00,\n",
       "         1.13929974e-01,  6.31181332e-01,  8.25084067e-01,\n",
       "        -7.60160948e-01],\n",
       "       [ 1.03028997e+00,  1.56985406e+00,  1.56854966e-02,\n",
       "         1.42411941e-02, -7.92339133e-01, -8.65281724e-01,\n",
       "        -1.27663885e+00,  8.64379700e-01,  2.30761262e-02,\n",
       "         1.70799475e+00, -1.70116730e+00, -1.44808521e+00,\n",
       "        -8.29029338e-01],\n",
       "       [-1.24675890e+00, -7.39837271e-01,  1.73795303e-01,\n",
       "         8.01254552e-01, -1.04234263e+00, -1.44857313e+00,\n",
       "        -8.41303273e-01,  1.02384067e+00,  1.52713982e-01,\n",
       "        -6.16504020e-01,  3.34336960e-01,  4.27595747e-02,\n",
       "        -9.22940780e-01],\n",
       "       [ 5.47654610e-01,  1.19817959e+00,  8.85289430e-01,\n",
       "         1.11605990e+00,  1.04101986e+00, -1.03193641e+00,\n",
       "        -1.18335265e+00,  4.65727276e-01, -1.62120811e-01,\n",
       "         2.42553873e+00, -5.13789816e-01, -1.56617193e+00,\n",
       "        -1.55997339e-01],\n",
       "       [ 6.09530938e-01, -4.74355509e-01,  9.24816882e-01,\n",
       "         1.71643866e-01, -2.08997634e-01,  3.51297502e-01,\n",
       "         5.68354778e-01, -7.30229995e-01,  2.08273063e-01,\n",
       "        -6.50877385e-01,  6.31181332e-01,  1.76977779e+00,\n",
       "         3.13559869e-01],\n",
       "       [ 6.09530938e-01,  6.84914854e-01,  9.64344333e-01,\n",
       "         1.43086524e+00,  2.04103386e+00, -1.53190048e+00,\n",
       "        -5.09619026e-01, -1.20861290e+00, -5.51034378e-01,\n",
       "         1.53183126e+00, -1.61635462e+00, -1.94995376e+00,\n",
       "        -7.66421710e-01],\n",
       "       [-1.40763735e+00,  1.73799251e+00,  5.52129482e-02,\n",
       "         4.86449209e-01, -1.37568063e+00,  9.01257974e-01,\n",
       "         1.00369035e+00, -1.28834339e+00,  2.52323477e+00,\n",
       "        -9.60237665e-01, -9.37853204e-01,  1.50408268e+00,\n",
       "        -1.14206748e+00]])"
      ]
     },
     "execution_count": 32,
     "metadata": {},
     "output_type": "execute_result"
    }
   ],
   "source": [
    "x_test"
   ]
  },
  {
   "cell_type": "code",
   "execution_count": 34,
   "id": "7a306239",
   "metadata": {},
   "outputs": [],
   "source": [
    "#for linear discrimination\n",
    "from sklearn.discriminant_analysis import LinearDiscriminantAnalysis\n",
    "l = LinearDiscriminantAnalysis(n_components = 2)\n",
    "x_train = l.fit_transform(x_train,y_train)\n",
    "x_test = l.transform(x_test)\n"
   ]
  },
  {
   "cell_type": "code",
   "execution_count": 35,
   "id": "6e82bfd4",
   "metadata": {},
   "outputs": [],
   "source": [
    "#for training and testing our model\n",
    "from sklearn.linear_model import LogisticRegression\n",
    "lr = LogisticRegression()\n",
    "lr.fit(x_train,y_train)\n",
    "y_pred = lr.predict(x_test)"
   ]
  },
  {
   "cell_type": "code",
   "execution_count": 36,
   "id": "b6fb90f8",
   "metadata": {},
   "outputs": [
    {
     "data": {
      "text/plain": [
       "array([2, 1, 1, 3, 1, 3, 1, 2, 2, 2, 3, 1, 1, 3, 3, 1, 2, 3, 1, 2, 1, 2,\n",
       "       3, 2, 3, 1, 2, 2, 1, 1, 2, 3, 2, 3, 2, 2, 2, 3, 1, 1, 3, 2, 1, 2,\n",
       "       3, 2, 3, 2, 3, 1, 3, 2], dtype=int64)"
      ]
     },
     "execution_count": 36,
     "metadata": {},
     "output_type": "execute_result"
    }
   ],
   "source": [
    "y_test"
   ]
  },
  {
   "cell_type": "code",
   "execution_count": 37,
   "id": "599750f2",
   "metadata": {},
   "outputs": [
    {
     "data": {
      "text/plain": [
       "array([2, 1, 1, 3, 1, 3, 1, 2, 2, 2, 3, 1, 1, 3, 3, 1, 2, 3, 1, 2, 1, 2,\n",
       "       3, 1, 3, 1, 1, 2, 1, 1, 2, 3, 2, 3, 2, 3, 2, 3, 1, 1, 3, 2, 1, 2,\n",
       "       3, 2, 3, 2, 3, 1, 3, 2], dtype=int64)"
      ]
     },
     "execution_count": 37,
     "metadata": {},
     "output_type": "execute_result"
    }
   ],
   "source": [
    "y_pred"
   ]
  },
  {
   "cell_type": "code",
   "execution_count": 38,
   "id": "420ec364",
   "metadata": {},
   "outputs": [
    {
     "data": {
      "text/plain": [
       "array([[16,  0,  0],\n",
       "       [ 2, 17,  1],\n",
       "       [ 0,  0, 16]], dtype=int64)"
      ]
     },
     "execution_count": 38,
     "metadata": {},
     "output_type": "execute_result"
    }
   ],
   "source": [
    "from sklearn.metrics import confusion_matrix,accuracy_score\n",
    "confusion_matrix(y_test,y_pred)"
   ]
  },
  {
   "cell_type": "code",
   "execution_count": 39,
   "id": "a2ce097d",
   "metadata": {},
   "outputs": [
    {
     "data": {
      "text/plain": [
       "0.9423076923076923"
      ]
     },
     "execution_count": 39,
     "metadata": {},
     "output_type": "execute_result"
    }
   ],
   "source": [
    "accuracy_score(y_test,y_pred)\n",
    "#we got 94% accuracy"
   ]
  },
  {
   "cell_type": "code",
   "execution_count": 51,
   "id": "435f9d84",
   "metadata": {},
   "outputs": [
    {
     "name": "stderr",
     "output_type": "stream",
     "text": [
      "*c* argument looks like a single numeric RGB or RGBA sequence, which should be avoided as value-mapping will have precedence in case its length matches with *x* & *y*.  Please use the *color* keyword-argument or provide a 2D array with a single row if you intend to specify the same RGB or RGBA value for all points.\n",
      "*c* argument looks like a single numeric RGB or RGBA sequence, which should be avoided as value-mapping will have precedence in case its length matches with *x* & *y*.  Please use the *color* keyword-argument or provide a 2D array with a single row if you intend to specify the same RGB or RGBA value for all points.\n",
      "*c* argument looks like a single numeric RGB or RGBA sequence, which should be avoided as value-mapping will have precedence in case its length matches with *x* & *y*.  Please use the *color* keyword-argument or provide a 2D array with a single row if you intend to specify the same RGB or RGBA value for all points.\n"
     ]
    },
    {
     "data": {
      "text/plain": [
       "<matplotlib.legend.Legend at 0x2649271a730>"
      ]
     },
     "execution_count": 51,
     "metadata": {},
     "output_type": "execute_result"
    },
    {
     "data": {
      "image/png": "[encoded data removed]",
      "text/plain": [
       "<Figure size 432x288 with 1 Axes>"
      ]
     },
     "metadata": {
      "needs_background": "light"
     },
     "output_type": "display_data"
    }
   ],
   "source": [
    "#visual representation training dataset \n",
    "from matplotlib.colors import ListedColormap\n",
    "x_s,y_s = x_train,y_train\n",
    "\n",
    "x1,x2 = np.meshgrid(\n",
    "    np.arange(start = x_s[:,0].min() - 1, stop = x_s[:,0].max() + 1 , step = .25),\n",
    "    np.arange(start = x_s[:,1].min() - 1, stop = x_s[:,1].max() + 1 , step = .25))\n",
    "\n",
    "plt.contourf(x1,x2,lr.predict(np.array([x1.ravel() , x2.ravel()]).T).reshape(x1.shape), \n",
    "            alpha = .55, cmap = ListedColormap(('magenta','blue','red')))\n",
    "\n",
    "plt.xlim(x1.min(),x1.max())\n",
    "plt.ylim(x2.min(),x2.max())\n",
    "\n",
    "for i,j in enumerate(np.unique(y_s)):\n",
    "    plt.scatter(x_s[y_s == j,0],x_s[y_s == j,1], \n",
    "                c = ListedColormap(('magenta','blue','red'))(i) , label = j)\n",
    "    \n",
    "plt.title(\"visalization of training set\")\n",
    "plt.xlabel(\"x axis\")\n",
    "plt.ylabel(\"y axis\")\n",
    "plt.legend()"
   ]
  },
  {
   "cell_type": "code",
   "execution_count": 52,
   "id": "be5f7d46",
   "metadata": {},
   "outputs": [
    {
     "name": "stderr",
     "output_type": "stream",
     "text": [
      "*c* argument looks like a single numeric RGB or RGBA sequence, which should be avoided as value-mapping will have precedence in case its length matches with *x* & *y*.  Please use the *color* keyword-argument or provide a 2D array with a single row if you intend to specify the same RGB or RGBA value for all points.\n",
      "*c* argument looks like a single numeric RGB or RGBA sequence, which should be avoided as value-mapping will have precedence in case its length matches with *x* & *y*.  Please use the *color* keyword-argument or provide a 2D array with a single row if you intend to specify the same RGB or RGBA value for all points.\n",
      "*c* argument looks like a single numeric RGB or RGBA sequence, which should be avoided as value-mapping will have precedence in case its length matches with *x* & *y*.  Please use the *color* keyword-argument or provide a 2D array with a single row if you intend to specify the same RGB or RGBA value for all points.\n"
     ]
    },
    {
     "data": {
      "text/plain": [
       "<matplotlib.legend.Legend at 0x264924a4730>"
      ]
     },
     "execution_count": 52,
     "metadata": {},
     "output_type": "execute_result"
    },
    {
     "data": {
      "image/png": "[encoded data removed]",
      "text/plain": [
       "<Figure size 432x288 with 1 Axes>"
      ]
     },
     "metadata": {
      "needs_background": "light"
     },
     "output_type": "display_data"
    }
   ],
   "source": [
    "#visual representation test dataset \n",
    "from matplotlib.colors import ListedColormap\n",
    "x_s,y_s = x_test,y_test\n",
    "\n",
    "x1,x2 = np.meshgrid(\n",
    "    np.arange(start = x_s[:,0].min() - 1, stop = x_s[:,0].max() + 1 , step = .25),\n",
    "    np.arange(start = x_s[:,1].min() - 1, stop = x_s[:,1].max() + 1 , step = .25))\n",
    "\n",
    "plt.contourf(x1,x2,lr.predict(np.array([x1.ravel() , x2.ravel()]).T).reshape(x1.shape), \n",
    "            alpha = .55, cmap = ListedColormap(('magenta','blue','red')))\n",
    "\n",
    "plt.xlim(x1.min(),x1.max())\n",
    "plt.ylim(x2.min(),x2.max())\n",
    "\n",
    "for i,j in enumerate(np.unique(y_s)):\n",
    "    plt.scatter(x_s[y_s == j,0],x_s[y_s == j,1], \n",
    "                c = ListedColormap(('magenta','blue','red'))(i) , label = j)\n",
    "    \n",
    "plt.title(\"visalization of test set\")\n",
    "plt.xlabel(\"x axis\")\n",
    "plt.ylabel(\"y axis\")\n",
    "plt.legend()\n",
    "#hear we can see three inputs which are wrongly predicted by our model."
   ]
  },
  {
   "cell_type": "code",
   "execution_count": null,
   "id": "522a354d",
   "metadata": {},
   "outputs": [],
   "source": []
  }
 ],
 "metadata": {
  "kernelspec": {
   "display_name": "Python 3 (ipykernel)",
   "language": "python",
   "name": "python3"
  },
  "language_info": {
   "codemirror_mode": {
    "name": "ipython",
    "version": 3
   },
   "file_extension": ".py",
   "mimetype": "text/x-python",
   "name": "python",
   "nbconvert_exporter": "python",
   "pygments_lexer": "ipython3",
   "version": "3.8.12"
  }
 },
 "nbformat": 4,
 "nbformat_minor": 5
}
